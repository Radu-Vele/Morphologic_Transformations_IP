{
 "cells": [
  {
   "cell_type": "markdown",
   "id": "475d46e3",
   "metadata": {},
   "source": [
    "# Morphologic Transformations Visualizations 🔲\n",
    "\n",
    "This notebook contains algorithms for visualizing some basic morphologic transformations such as erosion, dilation, opening, and closing. \n",
    "\n",
    "It serves the purpose of offering a better understanding in the process of exploring Image Processing. 📚"
   ]
  },
  {
   "cell_type": "code",
   "execution_count": 5,
   "id": "560390c1",
   "metadata": {},
   "outputs": [],
   "source": [
    "import cv2 as cv\n",
    "import numpy as np\n",
    "from matplotlib import pyplot as plt"
   ]
  },
  {
   "cell_type": "markdown",
   "id": "498c2153",
   "metadata": {},
   "source": [
    "# Dilation"
   ]
  },
  {
   "cell_type": "code",
   "execution_count": 3,
   "id": "99997340",
   "metadata": {},
   "outputs": [],
   "source": [
    "input_img = cv.imread(\"./ibmg/reg1neg1_bw.bmp\", cv.IMREAD_GRAYSCALE)\n",
    "cv.imshow(\"input\", input_img)\n",
    "cv.waitKey(0)                    # press on any key to close the image\n",
    "cv.destroyWindow(\"input\") "
   ]
  },
  {
   "attachments": {},
   "cell_type": "markdown",
   "id": "ffd0cbd9",
   "metadata": {},
   "source": [
    "## Out-of-box behavior"
   ]
  },
  {
   "cell_type": "code",
   "execution_count": 12,
   "id": "270fe370",
   "metadata": {},
   "outputs": [
    {
     "ename": "TypeError",
     "evalue": "Can't parse 'ksize'. Input argument doesn't provide sequence protocol",
     "output_type": "error",
     "traceback": [
      "\u001b[1;31m---------------------------------------------------------------------------\u001b[0m",
      "\u001b[1;31mTypeError\u001b[0m                                 Traceback (most recent call last)",
      "Cell \u001b[1;32mIn[12], line 1\u001b[0m\n\u001b[1;32m----> 1\u001b[0m structuring_elem \u001b[39m=\u001b[39m cv\u001b[39m.\u001b[39mgetStructuringElement(cv\u001b[39m.\u001b[39mMORPH_RECT, \u001b[39m1\u001b[39m, \u001b[39m1\u001b[39m)\n\u001b[0;32m      2\u001b[0m cv\u001b[39m.\u001b[39mdilate(input_img, structuring_elem)\n",
      "\u001b[1;31mTypeError\u001b[0m: Can't parse 'ksize'. Input argument doesn't provide sequence protocol"
     ]
    }
   ],
   "source": [
    "structuring_elem = cv.getStructuringElement(cv.MORPH_RECT, 1, 1)\n",
    "cv.dilate(input_img, structuring_elem)"
   ]
  },
  {
   "cell_type": "code",
   "execution_count": null,
   "id": "962a8d84",
   "metadata": {},
   "outputs": [],
   "source": []
  }
 ],
 "metadata": {
  "kernelspec": {
   "display_name": "Python 3 (ipykernel)",
   "language": "python",
   "name": "python3"
  },
  "language_info": {
   "codemirror_mode": {
    "name": "ipython",
    "version": 3
   },
   "file_extension": ".py",
   "mimetype": "text/x-python",
   "name": "python",
   "nbconvert_exporter": "python",
   "pygments_lexer": "ipython3",
   "version": "3.11.3"
  }
 },
 "nbformat": 4,
 "nbformat_minor": 5
}
