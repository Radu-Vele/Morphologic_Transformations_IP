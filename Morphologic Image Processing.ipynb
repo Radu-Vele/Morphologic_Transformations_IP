{
 "cells": [
  {
   "attachments": {},
   "cell_type": "markdown",
   "id": "475d46e3",
   "metadata": {},
   "source": [
    "# Morphologic Transformations Visualizations 🔲\n",
    "\n",
    "This notebook contains algorithms for visualizing some basic morphologic transformations such as erosion, dilation, opening, and closing. \n",
    "\n",
    "It serves the purpose of offering a better understanding in the process of exploring Image Processing. 📚"
   ]
  },
  {
   "cell_type": "code",
   "execution_count": 1,
   "id": "560390c1",
   "metadata": {},
   "outputs": [],
   "source": [
    "import cv2 as cv\n",
    "import numpy as np\n",
    "from matplotlib import pyplot as plt"
   ]
  },
  {
   "attachments": {},
   "cell_type": "markdown",
   "id": "498c2153",
   "metadata": {},
   "source": [
    "# Dilation"
   ]
  },
  {
   "cell_type": "code",
   "execution_count": 2,
   "id": "99997340",
   "metadata": {},
   "outputs": [],
   "source": [
    "input_img = cv.imread(\"./img/mon1thr1_bw.bmp\", cv.IMREAD_GRAYSCALE)\n",
    "cv.imshow(\"input\", input_img)\n",
    "cv.waitKey(0)                    # press on any key to close the image\n",
    "cv.destroyWindow(\"input\") "
   ]
  },
  {
   "attachments": {},
   "cell_type": "markdown",
   "id": "ffd0cbd9",
   "metadata": {},
   "source": [
    "## Out-of-box behavior"
   ]
  },
  {
   "cell_type": "code",
   "execution_count": 3,
   "id": "270fe370",
   "metadata": {},
   "outputs": [],
   "source": [
    "cv.imshow(\"source\", input_img)\n",
    "\n",
    "structuring_elem = cv.getStructuringElement(cv.MORPH_CROSS, ksize=(3, 3))\n",
    "default_dilated = cv.dilate(input_img, structuring_elem, iterations = 1)\n",
    "default_eroded = cv.erode(input_img, structuring_elem, iterations = 1)\n",
    "cv.imshow(\"default dilation\", default_dilated)\n",
    "cv.imshow(\"default eroded\", default_eroded)\n",
    "\n",
    "cv.waitKey(0)\n",
    "cv.destroyWindow(\"source\")\n",
    "cv.destroyWindow(\"default dilation\")\n",
    "cv.destroyWindow(\"default eroded\")"
   ]
  },
  {
   "cell_type": "code",
   "execution_count": null,
   "id": "16a3b38f",
   "metadata": {},
   "outputs": [],
   "source": []
  }
 ],
 "metadata": {
  "kernelspec": {
   "display_name": "Python 3 (ipykernel)",
   "language": "python",
   "name": "python3"
  },
  "language_info": {
   "codemirror_mode": {
    "name": "ipython",
    "version": 3
   },
   "file_extension": ".py",
   "mimetype": "text/x-python",
   "name": "python",
   "nbconvert_exporter": "python",
   "pygments_lexer": "ipython3",
   "version": "3.11.3"
  }
 },
 "nbformat": 4,
 "nbformat_minor": 5
}
